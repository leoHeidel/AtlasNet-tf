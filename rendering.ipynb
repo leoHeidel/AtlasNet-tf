{
 "cells": [
  {
   "cell_type": "code",
   "execution_count": 70,
   "metadata": {
    "scrolled": true
   },
   "outputs": [
    {
     "data": {
      "image/png": "[encoded data removed]",
      "text/plain": [
       "<Figure size 432x288 with 1 Axes>"
      ]
     },
     "metadata": {
      "needs_background": "light"
     },
     "output_type": "display_data"
    }
   ],
   "source": [
    "import matplotlib.pyplot as plt\n",
    "import dataset\n",
    "\n",
    "path = \"dataset/test/test_data/873f4d2e92681d12709eb7790ef48e0c/models/model_normalized.obj\"\n",
    "mat = dataset.geometry.random_camera()\n",
    "color = dataset.rendering.render(path, mat)\n",
    "plt.figure()\n",
    "plt.axis('off')\n",
    "plt.imshow(color)\n",
    "plt.show()"
   ]
  },
  {
   "cell_type": "code",
   "execution_count": 42,
   "metadata": {},
   "outputs": [],
   "source": [
    "import glob\n",
    "import os\n",
    "import pickle\n",
    "\n",
    "import numpy as np\n",
    "import PIL.Image as Image\n",
    "import tqdm.notebook as tqdm\n"
   ]
  },
  {
   "cell_type": "code",
   "execution_count": 44,
   "metadata": {},
   "outputs": [
    {
     "data": {
      "application/vnd.jupyter.widget-view+json": {
       "model_id": "121d15f1e5f9470f8059d437ba7a42cf",
       "version_major": 2,
       "version_minor": 0
      },
      "text/plain": [
       "HBox(children=(FloatProgress(value=0.0, max=10.0), HTML(value='')))"
      ]
     },
     "metadata": {},
     "output_type": "display_data"
    },
    {
     "name": "stdout",
     "output_type": "stream",
     "text": [
      "\n"
     ]
    },
    {
     "ename": "GLError",
     "evalue": "GLError(\n\terr = 1282,\n\tdescription = b'invalid operation',\n\tbaseOperation = glBindVertexArray,\n\tcArguments = (14,)\n)",
     "output_type": "error",
     "traceback": [
      "\u001b[0;31m---------------------------------------------------------------------------\u001b[0m",
      "\u001b[0;31mGLError\u001b[0m                                   Traceback (most recent call last)",
      "\u001b[0;32m<ipython-input-44-6bd692ce4d97>\u001b[0m in \u001b[0;36m<module>\u001b[0;34m\u001b[0m\n\u001b[1;32m     27\u001b[0m \u001b[0mplanes_input\u001b[0m \u001b[0;34m=\u001b[0m \u001b[0mobjects_path\u001b[0m \u001b[0;34m=\u001b[0m \u001b[0;34m\"/Data/leo/download/ShapeNetCore.v2/02691156/\"\u001b[0m\u001b[0;34m\u001b[0m\u001b[0;34m\u001b[0m\u001b[0m\n\u001b[1;32m     28\u001b[0m \u001b[0mplanes_output\u001b[0m \u001b[0;34m=\u001b[0m \u001b[0;34m\"data/planes\"\u001b[0m\u001b[0;34m\u001b[0m\u001b[0;34m\u001b[0m\u001b[0m\n\u001b[0;32m---> 29\u001b[0;31m \u001b[0mmake_dataset\u001b[0m\u001b[0;34m(\u001b[0m\u001b[0mplanes_input\u001b[0m\u001b[0;34m,\u001b[0m \u001b[0mplanes_output\u001b[0m\u001b[0;34m,\u001b[0m \u001b[0mnumber_models\u001b[0m\u001b[0;34m=\u001b[0m\u001b[0;36m10\u001b[0m\u001b[0;34m)\u001b[0m\u001b[0;34m\u001b[0m\u001b[0;34m\u001b[0m\u001b[0m\n\u001b[0m",
      "\u001b[0;32m<ipython-input-44-6bd692ce4d97>\u001b[0m in \u001b[0;36mmake_dataset\u001b[0;34m(input_path, output_path, size, number_models, nb_samples_per_model)\u001b[0m\n\u001b[1;32m     19\u001b[0m             \u001b[0mmat_path\u001b[0m \u001b[0;34m=\u001b[0m \u001b[0mos\u001b[0m\u001b[0;34m.\u001b[0m\u001b[0mpath\u001b[0m\u001b[0;34m.\u001b[0m\u001b[0mjoin\u001b[0m\u001b[0;34m(\u001b[0m\u001b[0mobject_dir\u001b[0m\u001b[0;34m,\u001b[0m \u001b[0mrender_name\u001b[0m \u001b[0;34m+\u001b[0m \u001b[0;34m\".pkl\"\u001b[0m\u001b[0;34m)\u001b[0m\u001b[0;34m\u001b[0m\u001b[0;34m\u001b[0m\u001b[0m\n\u001b[1;32m     20\u001b[0m             \u001b[0mmat\u001b[0m \u001b[0;34m=\u001b[0m \u001b[0mdataset\u001b[0m\u001b[0;34m.\u001b[0m\u001b[0mgeometry\u001b[0m\u001b[0;34m.\u001b[0m\u001b[0mrandom_camera\u001b[0m\u001b[0;34m(\u001b[0m\u001b[0;34m)\u001b[0m\u001b[0;34m\u001b[0m\u001b[0;34m\u001b[0m\u001b[0m\n\u001b[0;32m---> 21\u001b[0;31m             \u001b[0mcolor\u001b[0m \u001b[0;34m=\u001b[0m \u001b[0mdataset\u001b[0m\u001b[0;34m.\u001b[0m\u001b[0mrendering\u001b[0m\u001b[0;34m.\u001b[0m\u001b[0mrender\u001b[0m\u001b[0;34m(\u001b[0m\u001b[0mpath\u001b[0m\u001b[0;34m,\u001b[0m \u001b[0mmat\u001b[0m\u001b[0;34m)\u001b[0m\u001b[0;34m\u001b[0m\u001b[0;34m\u001b[0m\u001b[0m\n\u001b[0m\u001b[1;32m     22\u001b[0m             \u001b[0mim\u001b[0m \u001b[0;34m=\u001b[0m \u001b[0mImage\u001b[0m\u001b[0;34m.\u001b[0m\u001b[0mfromarray\u001b[0m\u001b[0;34m(\u001b[0m\u001b[0mcolor\u001b[0m\u001b[0;34m)\u001b[0m\u001b[0;34m\u001b[0m\u001b[0;34m\u001b[0m\u001b[0m\n\u001b[1;32m     23\u001b[0m             \u001b[0mim\u001b[0m\u001b[0;34m.\u001b[0m\u001b[0msave\u001b[0m\u001b[0;34m(\u001b[0m\u001b[0mimage_path\u001b[0m\u001b[0;34m)\u001b[0m\u001b[0;34m\u001b[0m\u001b[0;34m\u001b[0m\u001b[0m\n",
      "\u001b[0;32m/Data/leo/AtlasNet-tf/dataset/rendering.py\u001b[0m in \u001b[0;36mrender\u001b[0;34m(obj_path, camera_mat, return_depth)\u001b[0m\n\u001b[1;32m     32\u001b[0m     \u001b[0mscene\u001b[0m\u001b[0;34m.\u001b[0m\u001b[0madd\u001b[0m\u001b[0;34m(\u001b[0m\u001b[0mlight\u001b[0m\u001b[0;34m,\u001b[0m \u001b[0mpose\u001b[0m\u001b[0;34m=\u001b[0m\u001b[0mlight_pose\u001b[0m\u001b[0;34m)\u001b[0m\u001b[0;34m\u001b[0m\u001b[0;34m\u001b[0m\u001b[0m\n\u001b[1;32m     33\u001b[0m     \u001b[0mr\u001b[0m \u001b[0;34m=\u001b[0m \u001b[0mpyrender\u001b[0m\u001b[0;34m.\u001b[0m\u001b[0mOffscreenRenderer\u001b[0m\u001b[0;34m(\u001b[0m\u001b[0;36m512\u001b[0m\u001b[0;34m,\u001b[0m \u001b[0;36m512\u001b[0m\u001b[0;34m)\u001b[0m\u001b[0;34m\u001b[0m\u001b[0;34m\u001b[0m\u001b[0m\n\u001b[0;32m---> 34\u001b[0;31m     \u001b[0mcolor\u001b[0m\u001b[0;34m,\u001b[0m \u001b[0mdepth\u001b[0m \u001b[0;34m=\u001b[0m \u001b[0mr\u001b[0m\u001b[0;34m.\u001b[0m\u001b[0mrender\u001b[0m\u001b[0;34m(\u001b[0m\u001b[0mscene\u001b[0m\u001b[0;34m)\u001b[0m\u001b[0;34m\u001b[0m\u001b[0;34m\u001b[0m\u001b[0m\n\u001b[0m\u001b[1;32m     35\u001b[0m     \u001b[0;32mif\u001b[0m \u001b[0mreturn_depth\u001b[0m\u001b[0;34m:\u001b[0m\u001b[0;34m\u001b[0m\u001b[0;34m\u001b[0m\u001b[0m\n\u001b[1;32m     36\u001b[0m         \u001b[0;32mreturn\u001b[0m \u001b[0mcolor\u001b[0m\u001b[0;34m,\u001b[0m\u001b[0mdepth\u001b[0m\u001b[0;34m\u001b[0m\u001b[0;34m\u001b[0m\u001b[0m\n",
      "\u001b[0;32m/Data/leo/miniconda3/envs/tf2/lib/python3.8/site-packages/pyrender/offscreen.py\u001b[0m in \u001b[0;36mrender\u001b[0;34m(self, scene, flags, seg_node_map)\u001b[0m\n\u001b[1;32m    100\u001b[0m         \u001b[0;32mif\u001b[0m \u001b[0mself\u001b[0m\u001b[0;34m.\u001b[0m\u001b[0m_platform\u001b[0m\u001b[0;34m.\u001b[0m\u001b[0msupports_framebuffers\u001b[0m\u001b[0;34m(\u001b[0m\u001b[0;34m)\u001b[0m\u001b[0;34m:\u001b[0m\u001b[0;34m\u001b[0m\u001b[0;34m\u001b[0m\u001b[0m\n\u001b[1;32m    101\u001b[0m             \u001b[0mflags\u001b[0m \u001b[0;34m|=\u001b[0m \u001b[0mRenderFlags\u001b[0m\u001b[0;34m.\u001b[0m\u001b[0mOFFSCREEN\u001b[0m\u001b[0;34m\u001b[0m\u001b[0;34m\u001b[0m\u001b[0m\n\u001b[0;32m--> 102\u001b[0;31m             \u001b[0mretval\u001b[0m \u001b[0;34m=\u001b[0m \u001b[0mself\u001b[0m\u001b[0;34m.\u001b[0m\u001b[0m_renderer\u001b[0m\u001b[0;34m.\u001b[0m\u001b[0mrender\u001b[0m\u001b[0;34m(\u001b[0m\u001b[0mscene\u001b[0m\u001b[0;34m,\u001b[0m \u001b[0mflags\u001b[0m\u001b[0;34m,\u001b[0m \u001b[0mseg_node_map\u001b[0m\u001b[0;34m)\u001b[0m\u001b[0;34m\u001b[0m\u001b[0;34m\u001b[0m\u001b[0m\n\u001b[0m\u001b[1;32m    103\u001b[0m         \u001b[0;32melse\u001b[0m\u001b[0;34m:\u001b[0m\u001b[0;34m\u001b[0m\u001b[0;34m\u001b[0m\u001b[0m\n\u001b[1;32m    104\u001b[0m             \u001b[0mself\u001b[0m\u001b[0;34m.\u001b[0m\u001b[0m_renderer\u001b[0m\u001b[0;34m.\u001b[0m\u001b[0mrender\u001b[0m\u001b[0;34m(\u001b[0m\u001b[0mscene\u001b[0m\u001b[0;34m,\u001b[0m \u001b[0mflags\u001b[0m\u001b[0;34m,\u001b[0m \u001b[0mseg_node_map\u001b[0m\u001b[0;34m)\u001b[0m\u001b[0;34m\u001b[0m\u001b[0;34m\u001b[0m\u001b[0m\n",
      "\u001b[0;32m/Data/leo/miniconda3/envs/tf2/lib/python3.8/site-packages/pyrender/renderer.py\u001b[0m in \u001b[0;36mrender\u001b[0;34m(self, scene, flags, seg_node_map)\u001b[0m\n\u001b[1;32m    142\u001b[0m \u001b[0;34m\u001b[0m\u001b[0m\n\u001b[1;32m    143\u001b[0m         \u001b[0;31m# Make forward pass\u001b[0m\u001b[0;34m\u001b[0m\u001b[0;34m\u001b[0m\u001b[0;34m\u001b[0m\u001b[0m\n\u001b[0;32m--> 144\u001b[0;31m         \u001b[0mretval\u001b[0m \u001b[0;34m=\u001b[0m \u001b[0mself\u001b[0m\u001b[0;34m.\u001b[0m\u001b[0m_forward_pass\u001b[0m\u001b[0;34m(\u001b[0m\u001b[0mscene\u001b[0m\u001b[0;34m,\u001b[0m \u001b[0mflags\u001b[0m\u001b[0;34m,\u001b[0m \u001b[0mseg_node_map\u001b[0m\u001b[0;34m=\u001b[0m\u001b[0mseg_node_map\u001b[0m\u001b[0;34m)\u001b[0m\u001b[0;34m\u001b[0m\u001b[0;34m\u001b[0m\u001b[0m\n\u001b[0m\u001b[1;32m    145\u001b[0m \u001b[0;34m\u001b[0m\u001b[0m\n\u001b[1;32m    146\u001b[0m         \u001b[0;31m# If necessary, make normals pass\u001b[0m\u001b[0;34m\u001b[0m\u001b[0;34m\u001b[0m\u001b[0;34m\u001b[0m\u001b[0m\n",
      "\u001b[0;32m/Data/leo/miniconda3/envs/tf2/lib/python3.8/site-packages/pyrender/renderer.py\u001b[0m in \u001b[0;36m_forward_pass\u001b[0;34m(self, scene, flags, seg_node_map)\u001b[0m\n\u001b[1;32m    387\u001b[0m \u001b[0;34m\u001b[0m\u001b[0m\n\u001b[1;32m    388\u001b[0m                 \u001b[0;31m# Finally, bind and draw the primitive\u001b[0m\u001b[0;34m\u001b[0m\u001b[0;34m\u001b[0m\u001b[0;34m\u001b[0m\u001b[0m\n\u001b[0;32m--> 389\u001b[0;31m                 self._bind_and_draw_primitive(\n\u001b[0m\u001b[1;32m    390\u001b[0m                     \u001b[0mprimitive\u001b[0m\u001b[0;34m=\u001b[0m\u001b[0mprimitive\u001b[0m\u001b[0;34m,\u001b[0m\u001b[0;34m\u001b[0m\u001b[0;34m\u001b[0m\u001b[0m\n\u001b[1;32m    391\u001b[0m                     \u001b[0mpose\u001b[0m\u001b[0;34m=\u001b[0m\u001b[0mscene\u001b[0m\u001b[0;34m.\u001b[0m\u001b[0mget_pose\u001b[0m\u001b[0;34m(\u001b[0m\u001b[0mnode\u001b[0m\u001b[0;34m)\u001b[0m\u001b[0;34m,\u001b[0m\u001b[0;34m\u001b[0m\u001b[0;34m\u001b[0m\u001b[0m\n",
      "\u001b[0;32m/Data/leo/miniconda3/envs/tf2/lib/python3.8/site-packages/pyrender/renderer.py\u001b[0m in \u001b[0;36m_bind_and_draw_primitive\u001b[0;34m(self, primitive, pose, program, flags)\u001b[0m\n\u001b[1;32m    514\u001b[0m \u001b[0;34m\u001b[0m\u001b[0m\n\u001b[1;32m    515\u001b[0m         \u001b[0;31m# Bind mesh buffers\u001b[0m\u001b[0;34m\u001b[0m\u001b[0;34m\u001b[0m\u001b[0;34m\u001b[0m\u001b[0m\n\u001b[0;32m--> 516\u001b[0;31m         \u001b[0mprimitive\u001b[0m\u001b[0;34m.\u001b[0m\u001b[0m_bind\u001b[0m\u001b[0;34m(\u001b[0m\u001b[0;34m)\u001b[0m\u001b[0;34m\u001b[0m\u001b[0;34m\u001b[0m\u001b[0m\n\u001b[0m\u001b[1;32m    517\u001b[0m \u001b[0;34m\u001b[0m\u001b[0m\n\u001b[1;32m    518\u001b[0m         \u001b[0;31m# Bind mesh material\u001b[0m\u001b[0;34m\u001b[0m\u001b[0;34m\u001b[0m\u001b[0;34m\u001b[0m\u001b[0m\n",
      "\u001b[0;32m/Data/leo/miniconda3/envs/tf2/lib/python3.8/site-packages/pyrender/primitive.py\u001b[0m in \u001b[0;36m_bind\u001b[0;34m(self)\u001b[0m\n\u001b[1;32m    439\u001b[0m             raise ValueError('Cannot bind a Mesh that has not been added '\n\u001b[1;32m    440\u001b[0m                              'to a context')\n\u001b[0;32m--> 441\u001b[0;31m         \u001b[0mglBindVertexArray\u001b[0m\u001b[0;34m(\u001b[0m\u001b[0mself\u001b[0m\u001b[0;34m.\u001b[0m\u001b[0m_vaid\u001b[0m\u001b[0;34m)\u001b[0m\u001b[0;34m\u001b[0m\u001b[0;34m\u001b[0m\u001b[0m\n\u001b[0m\u001b[1;32m    442\u001b[0m \u001b[0;34m\u001b[0m\u001b[0m\n\u001b[1;32m    443\u001b[0m     \u001b[0;32mdef\u001b[0m \u001b[0m_unbind\u001b[0m\u001b[0;34m(\u001b[0m\u001b[0mself\u001b[0m\u001b[0;34m)\u001b[0m\u001b[0;34m:\u001b[0m\u001b[0;34m\u001b[0m\u001b[0;34m\u001b[0m\u001b[0m\n",
      "\u001b[0;32m/Data/leo/miniconda3/envs/tf2/lib/python3.8/site-packages/OpenGL/error.py\u001b[0m in \u001b[0;36mglCheckError\u001b[0;34m(self, result, baseOperation, cArguments, *args)\u001b[0m\n\u001b[1;32m    226\u001b[0m                 \u001b[0merr\u001b[0m \u001b[0;34m=\u001b[0m \u001b[0mself\u001b[0m\u001b[0;34m.\u001b[0m\u001b[0m_currentChecker\u001b[0m\u001b[0;34m(\u001b[0m\u001b[0;34m)\u001b[0m\u001b[0;34m\u001b[0m\u001b[0;34m\u001b[0m\u001b[0m\n\u001b[1;32m    227\u001b[0m                 \u001b[0;32mif\u001b[0m \u001b[0merr\u001b[0m \u001b[0;34m!=\u001b[0m \u001b[0mself\u001b[0m\u001b[0;34m.\u001b[0m\u001b[0m_noErrorResult\u001b[0m\u001b[0;34m:\u001b[0m\u001b[0;34m\u001b[0m\u001b[0;34m\u001b[0m\u001b[0m\n\u001b[0;32m--> 228\u001b[0;31m                     raise GLError(\n\u001b[0m\u001b[1;32m    229\u001b[0m                         \u001b[0merr\u001b[0m\u001b[0;34m,\u001b[0m\u001b[0;34m\u001b[0m\u001b[0;34m\u001b[0m\u001b[0m\n\u001b[1;32m    230\u001b[0m                         \u001b[0mresult\u001b[0m\u001b[0;34m,\u001b[0m\u001b[0;34m\u001b[0m\u001b[0;34m\u001b[0m\u001b[0m\n",
      "\u001b[0;31mGLError\u001b[0m: GLError(\n\terr = 1282,\n\tdescription = b'invalid operation',\n\tbaseOperation = glBindVertexArray,\n\tcArguments = (14,)\n)"
     ]
    }
   ],
   "source": [
    "def make_dir(dir_path):\n",
    "    if not os.path.exists(dir_path):\n",
    "        os.mkdir(dir_path)\n",
    "\n",
    "def make_dataset(input_path, output_path, size=128, number_models=None, nb_samples_per_model=20):\n",
    "    make_dir(output_path)\n",
    "    objects_path = os.path.join(input_path, \"*/models/*.obj\")\n",
    "    objects_path = glob.glob(objects_path)\n",
    "    if number_models is not None:\n",
    "        objects_path = objects_path[:number_models]\n",
    "    for path in tqdm.tqdm(objects_path):\n",
    "        name = path.split(os.path.sep)[-3]\n",
    "        object_dir = os.path.join(output_path, name)\n",
    "        make_dir(object_dir)\n",
    "        for i in range(nb_samples_per_model):\n",
    "            render_name = f\"render_{str(i).zfill(5)}\"\n",
    "            mat_name = f\"mat_{str(i).zfill(5)}\"\n",
    "            image_path = os.path.join(object_dir, render_name + \".png\") \n",
    "            mat_path = os.path.join(object_dir, render_name + \".pkl\") \n",
    "            mat = dataset.geometry.random_camera()\n",
    "            color = dataset.rendering.render(path, mat)\n",
    "            im = Image.fromarray(color)\n",
    "            im.save(image_path)\n",
    "            with open(mat_path, 'wb') as handle:\n",
    "                pickle.dump(mat, handle, protocol=pickle.HIGHEST_PROTOCOL)\n",
    "            \n",
    "planes_input = objects_path = \"/Data/leo/download/ShapeNetCore.v2/02691156/\"\n",
    "planes_output = \"data/planes\"\n",
    "make_dataset(planes_input, planes_output, number_models=10)"
   ]
  },
  {
   "cell_type": "code",
   "execution_count": 11,
   "metadata": {},
   "outputs": [],
   "source": [
    "import os\n",
    "os.environ[\"PYOPENGL_PLATFORM\"] = \"egl\"\n",
    "import numpy as np\n",
    "import trimesh\n",
    "import pyrender"
   ]
  },
  {
   "cell_type": "code",
   "execution_count": 47,
   "metadata": {},
   "outputs": [
    {
     "name": "stdout",
     "output_type": "stream",
     "text": [
      "<class 'trimesh.scene.scene.Scene'>\n"
     ]
    }
   ],
   "source": [
    "fuze_trimesh = trimesh.load(path)\n",
    "print(type(fuze_trimesh))"
   ]
  },
  {
   "cell_type": "code",
   "execution_count": 69,
   "metadata": {},
   "outputs": [
    {
     "data": {
      "text/plain": [
       "<pyrender.mesh.Mesh at 0x7f9f87b13d60>"
      ]
     },
     "execution_count": 69,
     "metadata": {},
     "output_type": "execute_result"
    }
   ],
   "source": [
    "tm = fuze_trimesh.geometry[\"None_n1PIc6arCzUP\"]\n",
    "pyrender.Mesh.from_points(tm.vertices)"
   ]
  },
  {
   "cell_type": "code",
   "execution_count": 56,
   "metadata": {},
   "outputs": [
    {
     "data": {
      "text/plain": [
       "{'a1d0830f6482d3dae672222092cf7550': 'None_n1PIc6arCzUP',\n",
       " '5a49cc475690928f5796decb26b22abf': 'None_n1O9f1vNAqPn',\n",
       " '613680e3a024f84b4333b9b75c3da540': 'None_n1OcXmnQbLWP',\n",
       " 'ce4886aa8ce39b130ef18bd9c028ea1a': 'None_n1MGAGNmTzTd',\n",
       " '508ee8283ac8612360ad66b578e69ab4': 'None_n1NooQAMsezn',\n",
       " 'e1702747bb960df3147e4138e530936d': 'None_n1Pe7ohHo3pP',\n",
       " 'e4583de9431edc9d430f2edc1cfd7c96': 'None_n1MwETSzmJTr',\n",
       " '6bb43a838c480f58a39f94e6afa0ee75': 'None_n1PnUiHBn7lP',\n",
       " '329989ae2d1479565966e84ac5118710': 'None_n1OQW9sEg7CP',\n",
       " 'afd497e1c93fc5e6c22b040aab8cbfd5': 'None_oFN6z2QfeDTP',\n",
       " '0af51ebbfa7ebe84ecb7cc8a2c414ef6': 'None_oFMV5EeN7zrP',\n",
       " '70b5bce19de74497c5f180fef1147767': 'None_oFP46c5ajQP0',\n",
       " 'b13befdec7618dcad4d48e1173f8b0c9': 'None_oFPoAR1glijC',\n",
       " '718ddbeb83619afe48bf3031f5211a10': 'None_oFOMercTK0Xs',\n",
       " '31a5669d020b34ccaead9eec22f4a1cf': 'None_oFNm0mw6ab7T',\n",
       " '555c79176e257ff0c884424a2c9a4db5': 'None_oFP8Mqv6kiba',\n",
       " 'cf923a3a06a5394212cff9cf530d9460': 'None_oFPUsCsdoHsP',\n",
       " '7a05c1546853b16630df06c139eb2a1e': 'None_oFNllafsJziP'}"
      ]
     },
     "execution_count": 56,
     "metadata": {},
     "output_type": "execute_result"
    }
   ],
   "source": [
    "fuze_trimesh.geometry_identifiers"
   ]
  },
  {
   "cell_type": "code",
   "execution_count": 72,
   "metadata": {},
   "outputs": [
    {
     "data": {
      "text/plain": [
       "TrackedArray([[ 0.069056, -0.054835,  0.070285],\n",
       "              [ 0.069056, -0.054835,  0.09062 ],\n",
       "              [ 0.069056, -0.059051,  0.06945 ],\n",
       "              ...,\n",
       "              [ 0.086167, -0.054188,  0.082473],\n",
       "              [ 0.086167, -0.048026,  0.080475],\n",
       "              [ 0.086167, -0.063913,  0.082473]])"
      ]
     },
     "execution_count": 72,
     "metadata": {},
     "output_type": "execute_result"
    }
   ],
   "source": [
    "fuze_trimesh.geometry[\"None_n1PnUiHBn7lP\"].vertices"
   ]
  },
  {
   "cell_type": "code",
   "execution_count": 76,
   "metadata": {},
   "outputs": [
    {
     "data": {
      "image/png": "[encoded data removed]",
      "text/plain": [
       "<Figure size 432x288 with 1 Axes>"
      ]
     },
     "metadata": {
      "needs_background": "light"
     },
     "output_type": "display_data"
    }
   ],
   "source": [
    "path = \"dataset/test/test_data/873f4d2e92681d12709eb7790ef48e0c/models/model_normalized.obj\"\n",
    "mat = dataset.geometry.random_camera()\n",
    "color = dataset.rendering.render(path, mat)\n",
    "plt.figure()\n",
    "plt.axis('off')\n",
    "plt.imshow(color)\n",
    "plt.show()"
   ]
  },
  {
   "cell_type": "code",
   "execution_count": 124,
   "metadata": {},
   "outputs": [],
   "source": [
    "def mult_vec(mat, vec):\n",
    "    v = np.ones((len(vec),4))\n",
    "    v[:,:3] = vec\n",
    "    return (v@mat)[:,:3]\n",
    "\n",
    "pts = fuze_trimesh.geometry[\"None_n1PnUiHBn7lP\"].vertices\n",
    "pts = mult_vec(mat, pts)\n",
    "colors = np.random.uniform(size=pts.shape)\n",
    "m = pyrender.Mesh.from_points(pts, colors=colors)\n",
    "scene = pyrender.Scene()\n",
    "scene.add_node(pyrender.Node(mesh=m))\n",
    "camera = pyrender.PerspectiveCamera(yfov=np.pi / 3.0)\n",
    "s = np.sqrt(2)/2\n",
    "mat_default = np.array([\n",
    "    [1,0,0,0],\n",
    "    [0,1,0,0],\n",
    "    [0,0,1,1],\n",
    "    [0,0,0,1],\n",
    "])\n",
    "scene.add(camera, pose=mat_default)\n",
    "\n",
    "light = pyrender.SpotLight(color=np.ones(3), intensity=4.0,\n",
    "                           innerConeAngle=np.pi/16.0)\n",
    "scene.add(light, pose=mat_default)\n",
    "light = pyrender.SpotLight(color=np.ones(3), intensity=6.0,\n",
    "                           innerConeAngle=0.2*np.pi)\n",
    "light_pose = np.array([\n",
    "    [0,1,0,0],\n",
    "    [0,0,1,1],\n",
    "    [1,0,0,0],\n",
    "    [0,0,0,1]\n",
    "], dtype=np.float32)\n",
    "scene.add(light, pose=light_pose)\n",
    "r = pyrender.OffscreenRenderer(512, 512)\n",
    "color2, depth = r.render(scene)"
   ]
  },
  {
   "cell_type": "code",
   "execution_count": 122,
   "metadata": {},
   "outputs": [
    {
     "name": "stdout",
     "output_type": "stream",
     "text": [
      "[ 0.069056 -0.054835  0.070285]\n",
      "[ 0.00061852 -0.08058031 -0.07887979]\n"
     ]
    }
   ],
   "source": [
    "def mult_vec(mat, vec):\n",
    "    v = np.ones((len(vec),4))\n",
    "    v[:,:3] = vec\n",
    "    return (v@mat)[:,:3]"
   ]
  },
  {
   "cell_type": "code",
   "execution_count": 125,
   "metadata": {},
   "outputs": [
    {
     "data": {
      "text/plain": [
       "<matplotlib.image.AxesImage at 0x7f9f850b0c40>"
      ]
     },
     "execution_count": 125,
     "metadata": {},
     "output_type": "execute_result"
    },
    {
     "data": {
      "image/png": "[encoded data removed]",
      "text/plain": [
       "<Figure size 432x288 with 1 Axes>"
      ]
     },
     "metadata": {
      "needs_background": "light"
     },
     "output_type": "display_data"
    }
   ],
   "source": [
    "plt.imshow(color)\n",
    "plt.imshow(color2, alpha=0.8)"
   ]
  },
  {
   "cell_type": "code",
   "execution_count": null,
   "metadata": {},
   "outputs": [],
   "source": []
  }
 ],
 "metadata": {
  "kernelspec": {
   "display_name": "Python 3",
   "language": "python",
   "name": "python3"
  },
  "language_info": {
   "codemirror_mode": {
    "name": "ipython",
    "version": 3
   },
   "file_extension": ".py",
   "mimetype": "text/x-python",
   "name": "python",
   "nbconvert_exporter": "python",
   "pygments_lexer": "ipython3",
   "version": "3.8.5"
  }
 },
 "nbformat": 4,
 "nbformat_minor": 4
}
