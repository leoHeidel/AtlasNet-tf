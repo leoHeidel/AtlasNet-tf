{
 "cells": [
  {
   "cell_type": "code",
   "execution_count": 24,
   "metadata": {
    "scrolled": true
   },
   "outputs": [
    {
     "data": {
      "image/png": "[encoded data removed]",
      "text/plain": [
       "<Figure size 432x288 with 1 Axes>"
      ]
     },
     "metadata": {
      "needs_background": "light"
     },
     "output_type": "display_data"
    }
   ],
   "source": [
    "import matplotlib.pyplot as plt\n",
    "import dataset\n",
    "\n",
    "path = \"dataset/test/test_data/873f4d2e92681d12709eb7790ef48e0c/models/model_normalized.obj\"\n",
    "mat = dataset.geometry.random_camera()\n",
    "color = dataset.rendering.render(path, mat)\n",
    "plt.figure()\n",
    "plt.axis('off')\n",
    "plt.imshow(color)\n",
    "plt.show()"
   ]
  },
  {
   "cell_type": "code",
   "execution_count": 286,
   "metadata": {},
   "outputs": [],
   "source": [
    "image_path = \"planes/222c0d99446148babe4274edc10c1c8e/render_00010.png\""
   ]
  },
  {
   "cell_type": "code",
   "execution_count": 291,
   "metadata": {},
   "outputs": [
    {
     "data": {
      "text/plain": [
       "'planes/222c0d99446148babe4274edc10c1c8e/'"
      ]
     },
     "execution_count": 291,
     "metadata": {},
     "output_type": "execute_result"
    }
   ],
   "source": [
    "image_path[:-16]"
   ]
  },
  {
   "cell_type": "code",
   "execution_count": 97,
   "metadata": {
    "scrolled": true
   },
   "outputs": [
    {
     "data": {
      "application/vnd.jupyter.widget-view+json": {
       "model_id": "6d22572b2ae4444f99fbcc35d022f7ef",
       "version_major": 2,
       "version_minor": 0
      },
      "text/plain": [
       "HBox(children=(FloatProgress(value=0.0, max=10.0), HTML(value='')))"
      ]
     },
     "metadata": {},
     "output_type": "display_data"
    },
    {
     "name": "stdout",
     "output_type": "stream",
     "text": [
      "\n"
     ]
    },
    {
     "ename": "KeyboardInterrupt",
     "evalue": "",
     "output_type": "error",
     "traceback": [
      "\u001b[0;31m---------------------------------------------------------------------------\u001b[0m",
      "\u001b[0;31mKeyboardInterrupt\u001b[0m                         Traceback (most recent call last)",
      "\u001b[0;32m<ipython-input-97-3304641a49e7>\u001b[0m in \u001b[0;36m<module>\u001b[0;34m\u001b[0m\n\u001b[1;32m     42\u001b[0m \u001b[0mplanes_output\u001b[0m \u001b[0;34m=\u001b[0m \u001b[0;34m\"data/planes\"\u001b[0m\u001b[0;34m\u001b[0m\u001b[0;34m\u001b[0m\u001b[0m\n\u001b[1;32m     43\u001b[0m \u001b[0;32mtry\u001b[0m\u001b[0;34m:\u001b[0m\u001b[0;34m\u001b[0m\u001b[0;34m\u001b[0m\u001b[0m\n\u001b[0;32m---> 44\u001b[0;31m     \u001b[0mmake_dataset\u001b[0m\u001b[0;34m(\u001b[0m\u001b[0mplanes_input\u001b[0m\u001b[0;34m,\u001b[0m \u001b[0mplanes_output\u001b[0m\u001b[0;34m,\u001b[0m \u001b[0mnumber_models\u001b[0m\u001b[0;34m=\u001b[0m\u001b[0;36m10\u001b[0m\u001b[0;34m)\u001b[0m\u001b[0;34m\u001b[0m\u001b[0;34m\u001b[0m\u001b[0m\n\u001b[0m\u001b[1;32m     45\u001b[0m \u001b[0;32mexcept\u001b[0m \u001b[0mException\u001b[0m \u001b[0;32mas\u001b[0m \u001b[0me\u001b[0m\u001b[0;34m:\u001b[0m\u001b[0;34m\u001b[0m\u001b[0;34m\u001b[0m\u001b[0m\n\u001b[1;32m     46\u001b[0m     \u001b[0mprint\u001b[0m\u001b[0;34m(\u001b[0m\u001b[0me\u001b[0m\u001b[0;34m)\u001b[0m\u001b[0;34m\u001b[0m\u001b[0;34m\u001b[0m\u001b[0m\n",
      "\u001b[0;32m<ipython-input-97-3304641a49e7>\u001b[0m in \u001b[0;36mmake_dataset\u001b[0;34m(input_path, output_path, size, number_models, nb_samples_per_model)\u001b[0m\n\u001b[1;32m     29\u001b[0m             \u001b[0mmat\u001b[0m \u001b[0;34m=\u001b[0m \u001b[0mdataset\u001b[0m\u001b[0;34m.\u001b[0m\u001b[0mgeometry\u001b[0m\u001b[0;34m.\u001b[0m\u001b[0mrandom_camera\u001b[0m\u001b[0;34m(\u001b[0m\u001b[0;34m)\u001b[0m\u001b[0;34m\u001b[0m\u001b[0;34m\u001b[0m\u001b[0m\n\u001b[1;32m     30\u001b[0m             \u001b[0;32mtry\u001b[0m\u001b[0;34m:\u001b[0m\u001b[0;34m\u001b[0m\u001b[0;34m\u001b[0m\u001b[0m\n\u001b[0;32m---> 31\u001b[0;31m                 \u001b[0mcolor\u001b[0m \u001b[0;34m=\u001b[0m \u001b[0mdataset\u001b[0m\u001b[0;34m.\u001b[0m\u001b[0mrendering\u001b[0m\u001b[0;34m.\u001b[0m\u001b[0mrender\u001b[0m\u001b[0;34m(\u001b[0m\u001b[0mpath\u001b[0m\u001b[0;34m,\u001b[0m \u001b[0mmat\u001b[0m\u001b[0;34m)\u001b[0m\u001b[0;34m\u001b[0m\u001b[0;34m\u001b[0m\u001b[0m\n\u001b[0m\u001b[1;32m     32\u001b[0m             \u001b[0;32mexcept\u001b[0m \u001b[0mOpenGL\u001b[0m\u001b[0;34m.\u001b[0m\u001b[0merror\u001b[0m\u001b[0;34m.\u001b[0m\u001b[0mGLError\u001b[0m\u001b[0;34m:\u001b[0m\u001b[0;34m\u001b[0m\u001b[0;34m\u001b[0m\u001b[0m\n\u001b[1;32m     33\u001b[0m                 \u001b[0mprint\u001b[0m\u001b[0;34m(\u001b[0m\u001b[0;34m\"GL Error occured\"\u001b[0m\u001b[0;34m)\u001b[0m\u001b[0;34m\u001b[0m\u001b[0;34m\u001b[0m\u001b[0m\n",
      "\u001b[0;32m/Data/leo/AtlasNet-tf/dataset/rendering.py\u001b[0m in \u001b[0;36mrender\u001b[0;34m(obj_path, camera_mat, return_depth)\u001b[0m\n\u001b[1;32m      8\u001b[0m \u001b[0;34m\u001b[0m\u001b[0m\n\u001b[1;32m      9\u001b[0m \u001b[0;32mdef\u001b[0m \u001b[0mrender\u001b[0m\u001b[0;34m(\u001b[0m\u001b[0mobj_path\u001b[0m\u001b[0;34m,\u001b[0m \u001b[0mcamera_mat\u001b[0m\u001b[0;34m,\u001b[0m \u001b[0mreturn_depth\u001b[0m\u001b[0;34m=\u001b[0m\u001b[0;32mFalse\u001b[0m\u001b[0;34m)\u001b[0m\u001b[0;34m:\u001b[0m\u001b[0;34m\u001b[0m\u001b[0;34m\u001b[0m\u001b[0m\n\u001b[0;32m---> 10\u001b[0;31m     \u001b[0mfuze_trimesh\u001b[0m \u001b[0;34m=\u001b[0m \u001b[0mtrimesh\u001b[0m\u001b[0;34m.\u001b[0m\u001b[0mload\u001b[0m\u001b[0;34m(\u001b[0m\u001b[0mobj_path\u001b[0m\u001b[0;34m)\u001b[0m\u001b[0;34m\u001b[0m\u001b[0;34m\u001b[0m\u001b[0m\n\u001b[0m\u001b[1;32m     11\u001b[0m     \u001b[0;32mif\u001b[0m \u001b[0mtype\u001b[0m\u001b[0;34m(\u001b[0m\u001b[0mfuze_trimesh\u001b[0m\u001b[0;34m)\u001b[0m \u001b[0;34m==\u001b[0m \u001b[0mtrimesh\u001b[0m\u001b[0;34m.\u001b[0m\u001b[0mbase\u001b[0m\u001b[0;34m.\u001b[0m\u001b[0mTrimesh\u001b[0m\u001b[0;34m:\u001b[0m\u001b[0;34m\u001b[0m\u001b[0;34m\u001b[0m\u001b[0m\n\u001b[1;32m     12\u001b[0m         \u001b[0mm\u001b[0m \u001b[0;34m=\u001b[0m \u001b[0mpyrender\u001b[0m\u001b[0;34m.\u001b[0m\u001b[0mMesh\u001b[0m\u001b[0;34m.\u001b[0m\u001b[0mfrom_trimesh\u001b[0m\u001b[0;34m(\u001b[0m\u001b[0mfuze_trimesh\u001b[0m\u001b[0;34m)\u001b[0m\u001b[0;34m\u001b[0m\u001b[0;34m\u001b[0m\u001b[0m\n",
      "\u001b[0;32m/Data/leo/miniconda3/envs/tf2/lib/python3.8/site-packages/trimesh/exchange/load.py\u001b[0m in \u001b[0;36mload\u001b[0;34m(file_obj, file_type, resolver, force, **kwargs)\u001b[0m\n\u001b[1;32m    122\u001b[0m         \u001b[0;32melif\u001b[0m \u001b[0mfile_type\u001b[0m \u001b[0;32min\u001b[0m \u001b[0mmesh_loaders\u001b[0m\u001b[0;34m:\u001b[0m\u001b[0;34m\u001b[0m\u001b[0;34m\u001b[0m\u001b[0m\n\u001b[1;32m    123\u001b[0m             \u001b[0;31m# mesh loaders use mesh loader\u001b[0m\u001b[0;34m\u001b[0m\u001b[0;34m\u001b[0m\u001b[0;34m\u001b[0m\u001b[0m\n\u001b[0;32m--> 124\u001b[0;31m             loaded = load_mesh(file_obj,\n\u001b[0m\u001b[1;32m    125\u001b[0m                                \u001b[0mfile_type\u001b[0m\u001b[0;34m=\u001b[0m\u001b[0mfile_type\u001b[0m\u001b[0;34m,\u001b[0m\u001b[0;34m\u001b[0m\u001b[0;34m\u001b[0m\u001b[0m\n\u001b[1;32m    126\u001b[0m                                \u001b[0mresolver\u001b[0m\u001b[0;34m=\u001b[0m\u001b[0mresolver\u001b[0m\u001b[0;34m,\u001b[0m\u001b[0;34m\u001b[0m\u001b[0;34m\u001b[0m\u001b[0m\n",
      "\u001b[0;32m/Data/leo/miniconda3/envs/tf2/lib/python3.8/site-packages/trimesh/constants.py\u001b[0m in \u001b[0;36mtimed\u001b[0;34m(*args, **kwargs)\u001b[0m\n\u001b[1;32m    132\u001b[0m     \u001b[0;32mdef\u001b[0m \u001b[0mtimed\u001b[0m\u001b[0;34m(\u001b[0m\u001b[0;34m*\u001b[0m\u001b[0margs\u001b[0m\u001b[0;34m,\u001b[0m \u001b[0;34m**\u001b[0m\u001b[0mkwargs\u001b[0m\u001b[0;34m)\u001b[0m\u001b[0;34m:\u001b[0m\u001b[0;34m\u001b[0m\u001b[0;34m\u001b[0m\u001b[0m\n\u001b[1;32m    133\u001b[0m         \u001b[0mtic\u001b[0m \u001b[0;34m=\u001b[0m \u001b[0mnow\u001b[0m\u001b[0;34m(\u001b[0m\u001b[0;34m)\u001b[0m\u001b[0;34m\u001b[0m\u001b[0;34m\u001b[0m\u001b[0m\n\u001b[0;32m--> 134\u001b[0;31m         \u001b[0mresult\u001b[0m \u001b[0;34m=\u001b[0m \u001b[0mmethod\u001b[0m\u001b[0;34m(\u001b[0m\u001b[0;34m*\u001b[0m\u001b[0margs\u001b[0m\u001b[0;34m,\u001b[0m \u001b[0;34m**\u001b[0m\u001b[0mkwargs\u001b[0m\u001b[0;34m)\u001b[0m\u001b[0;34m\u001b[0m\u001b[0;34m\u001b[0m\u001b[0m\n\u001b[0m\u001b[1;32m    135\u001b[0m         log.debug('%s executed in %.4f seconds.',\n\u001b[1;32m    136\u001b[0m                   \u001b[0mmethod\u001b[0m\u001b[0;34m.\u001b[0m\u001b[0m__name__\u001b[0m\u001b[0;34m,\u001b[0m\u001b[0;34m\u001b[0m\u001b[0;34m\u001b[0m\u001b[0m\n",
      "\u001b[0;32m/Data/leo/miniconda3/envs/tf2/lib/python3.8/site-packages/trimesh/exchange/load.py\u001b[0m in \u001b[0;36mload_mesh\u001b[0;34m(file_obj, file_type, resolver, **kwargs)\u001b[0m\n\u001b[1;32m    204\u001b[0m         \u001b[0;31m# make sure we keep passed kwargs to loader\u001b[0m\u001b[0;34m\u001b[0m\u001b[0;34m\u001b[0m\u001b[0;34m\u001b[0m\u001b[0m\n\u001b[1;32m    205\u001b[0m         \u001b[0;31m# but also make sure loader keys override passed keys\u001b[0m\u001b[0;34m\u001b[0m\u001b[0;34m\u001b[0m\u001b[0;34m\u001b[0m\u001b[0m\n\u001b[0;32m--> 206\u001b[0;31m         results = mesh_loaders[file_type](file_obj,\n\u001b[0m\u001b[1;32m    207\u001b[0m                                           \u001b[0mfile_type\u001b[0m\u001b[0;34m=\u001b[0m\u001b[0mfile_type\u001b[0m\u001b[0;34m,\u001b[0m\u001b[0;34m\u001b[0m\u001b[0;34m\u001b[0m\u001b[0m\n\u001b[1;32m    208\u001b[0m                                           \u001b[0mresolver\u001b[0m\u001b[0;34m=\u001b[0m\u001b[0mresolver\u001b[0m\u001b[0;34m,\u001b[0m\u001b[0;34m\u001b[0m\u001b[0;34m\u001b[0m\u001b[0m\n",
      "\u001b[0;32m/Data/leo/miniconda3/envs/tf2/lib/python3.8/site-packages/trimesh/exchange/obj.py\u001b[0m in \u001b[0;36mload_obj\u001b[0;34m(file_obj, resolver, split_object, group_material, skip_materials, maintain_order, **kwargs)\u001b[0m\n\u001b[1;32m    129\u001b[0m         \u001b[0;31m# processes the whole string at once into a 1D array\u001b[0m\u001b[0;34m\u001b[0m\u001b[0;34m\u001b[0m\u001b[0;34m\u001b[0m\u001b[0m\n\u001b[1;32m    130\u001b[0m         \u001b[0;31m# also wavefront is 1-indexed (vs 0-indexed) so offset\u001b[0m\u001b[0;34m\u001b[0m\u001b[0;34m\u001b[0m\u001b[0;34m\u001b[0m\u001b[0m\n\u001b[0;32m--> 131\u001b[0;31m         \u001b[0marray\u001b[0m \u001b[0;34m=\u001b[0m \u001b[0mnp\u001b[0m\u001b[0;34m.\u001b[0m\u001b[0mfromstring\u001b[0m\u001b[0;34m(\u001b[0m\u001b[0mjoined\u001b[0m\u001b[0;34m,\u001b[0m \u001b[0msep\u001b[0m\u001b[0;34m=\u001b[0m\u001b[0;34m' '\u001b[0m\u001b[0;34m,\u001b[0m \u001b[0mdtype\u001b[0m\u001b[0;34m=\u001b[0m\u001b[0mnp\u001b[0m\u001b[0;34m.\u001b[0m\u001b[0mint64\u001b[0m\u001b[0;34m)\u001b[0m \u001b[0;34m-\u001b[0m \u001b[0;36m1\u001b[0m\u001b[0;34m\u001b[0m\u001b[0;34m\u001b[0m\u001b[0m\n\u001b[0m\u001b[1;32m    132\u001b[0m \u001b[0;34m\u001b[0m\u001b[0m\n\u001b[1;32m    133\u001b[0m         \u001b[0;31m# get the number of raw 2D columns in a sample line\u001b[0m\u001b[0;34m\u001b[0m\u001b[0;34m\u001b[0m\u001b[0;34m\u001b[0m\u001b[0m\n",
      "\u001b[0;31mKeyboardInterrupt\u001b[0m: "
     ]
    }
   ],
   "source": [
    "def make_dir(dir_path):\n",
    "    if not os.path.exists(dir_path):\n",
    "        os.mkdir(dir_path)\n",
    "        \n",
    "def make_dataset(input_path, output_path, size=128, nb_points=100000, number_models=None, nb_samples_per_model=20):\n",
    "    make_dir(output_path)\n",
    "    objects_path = os.path.join(input_path, \"*/models/*.obj\")\n",
    "    objects_path = glob.glob(objects_path)\n",
    "    if number_models is not None:\n",
    "        objects_path = objects_path[:number_models]\n",
    "    for path in tqdm.tqdm(objects_path):\n",
    "        name = path.split(os.path.sep)[-3]\n",
    "        object_dir = os.path.join(output_path, name)\n",
    "        make_dir(object_dir)\n",
    "        for i in range(nb_samples_per_model):\n",
    "            render_name = f\"render_{str(i).zfill(5)}\"\n",
    "            mat_name = f\"mat_{str(i).zfill(5)}\"\n",
    "            image_path = os.path.join(object_dir, render_name + \".jpg\") \n",
    "            mat_path = os.path.join(object_dir, render_name + \".pkl\") \n",
    "            mat = dataset.geometry.random_camera()\n",
    "            \n",
    "            try:\n",
    "                color = dataset.rendering.render(path, mat)\n",
    "            except OpenGL.error.GLError:\n",
    "                print(\"GL Error occured, trying again.\")\n",
    "                color = dataset.rendering.render(path, mat)\n",
    "            \n",
    "            im = Image.fromarray(color)\n",
    "            im.save(image_path)\n",
    "            with open(mat_path, 'wb') as handle:\n",
    "                pickle.dump(mat, handle, protocol=pickle.HIGHEST_PROTOCOL)\n",
    "            \n",
    "planes_input = objects_path = \"/Data/leo/download/ShapeNetCore.v2/02691156/\"\n",
    "planes_output = \"data/planes\"\n",
    "try:\n",
    "    make_dataset(planes_input, planes_output, number_models=10)\n",
    "except Exception as e:\n",
    "    print(e)\n",
    "    print(type(e))\n",
    "    "
   ]
  },
  {
   "cell_type": "code",
   "execution_count": 20,
   "metadata": {},
   "outputs": [],
   "source": [
    "import os\n",
    "os.environ[\"PYOPENGL_PLATFORM\"] = \"egl\"\n",
    "import numpy as np\n",
    "import trimesh\n",
    "import pyrender"
   ]
  },
  {
   "cell_type": "code",
   "execution_count": 42,
   "metadata": {},
   "outputs": [
    {
     "data": {
      "image/png": "[encoded data removed]",
      "text/plain": [
       "<Figure size 432x288 with 1 Axes>"
      ]
     },
     "metadata": {
      "needs_background": "light"
     },
     "output_type": "display_data"
    }
   ],
   "source": [
    "path = \"dataset/test/test_data/873f4d2e92681d12709eb7790ef48e0c/models/model_normalized.obj\"\n",
    "mat = dataset.geometry.random_camera()\n",
    "color = dataset.rendering.render(path, mat)\n",
    "plt.figure()\n",
    "plt.axis('off')\n",
    "plt.imshow(color)\n",
    "plt.show()"
   ]
  },
  {
   "cell_type": "code",
   "execution_count": 119,
   "metadata": {},
   "outputs": [],
   "source": [
    "path = files[np.random.randint(len(files))]"
   ]
  },
  {
   "cell_type": "code",
   "execution_count": 120,
   "metadata": {},
   "outputs": [
    {
     "data": {
      "text/plain": [
       "'/Data/leo/download/ShapeNetCore.v2/02691156/a87cad03c8f717e230dd29e8b6a554b3/models/model_normalized.obj'"
      ]
     },
     "execution_count": 120,
     "metadata": {},
     "output_type": "execute_result"
    }
   ],
   "source": [
    "path"
   ]
  },
  {
   "cell_type": "code",
   "execution_count": 149,
   "metadata": {},
   "outputs": [
    {
     "data": {
      "text/plain": [
       "array([[[0.98752746, 0.97124897, 0.41593374, 0.59110335],\n",
       "        [0.95399987, 0.93758002, 0.91130648, 0.52619814],\n",
       "        [0.39113429, 0.01952181, 0.35551098, 0.12902094]],\n",
       "\n",
       "       [[0.33450128, 0.65217525, 0.84068467, 0.17830894],\n",
       "        [0.18929205, 0.91129099, 0.42860611, 0.38396308],\n",
       "        [0.16553976, 0.41095228, 0.52909531, 0.50766467]]])"
      ]
     },
     "execution_count": 149,
     "metadata": {},
     "output_type": "execute_result"
    }
   ],
   "source": [
    "m = np.random.uniform(size=(2,3,4))\n",
    "m"
   ]
  },
  {
   "cell_type": "code",
   "execution_count": 154,
   "metadata": {},
   "outputs": [
    {
     "data": {
      "text/plain": [
       "array([[[0.33450128, 0.65217525, 0.84068467, 0.17830894],\n",
       "        [0.18929205, 0.91129099, 0.42860611, 0.38396308],\n",
       "        [0.16553976, 0.41095228, 0.52909531, 0.50766467]],\n",
       "\n",
       "       [[0.98752746, 0.97124897, 0.41593374, 0.59110335],\n",
       "        [0.95399987, 0.93758002, 0.91130648, 0.52619814],\n",
       "        [0.39113429, 0.01952181, 0.35551098, 0.12902094]]])"
      ]
     },
     "execution_count": 154,
     "metadata": {},
     "output_type": "execute_result"
    }
   ],
   "source": [
    "np.take(m,[1,0],axis=0)"
   ]
  },
  {
   "cell_type": "code",
   "execution_count": 258,
   "metadata": {},
   "outputs": [
    {
     "data": {
      "application/vnd.jupyter.widget-view+json": {
       "model_id": "a1dd728065fd48e38abcbe1a65c0db97",
       "version_major": 2,
       "version_minor": 0
      },
      "text/plain": [
       "HBox(children=(FloatProgress(value=0.0, max=4045.0), HTML(value='')))"
      ]
     },
     "metadata": {},
     "output_type": "display_data"
    },
    {
     "name": "stdout",
     "output_type": "stream",
     "text": [
      "\n"
     ]
    },
    {
     "ename": "AssertionError",
     "evalue": "",
     "output_type": "error",
     "traceback": [
      "\u001b[0;31m---------------------------------------------------------------------------\u001b[0m",
      "\u001b[0;31mAssertionError\u001b[0m                            Traceback (most recent call last)",
      "\u001b[0;32m<ipython-input-258-ba6748b0ef16>\u001b[0m in \u001b[0;36m<module>\u001b[0;34m\u001b[0m\n\u001b[1;32m      1\u001b[0m \u001b[0;32mfor\u001b[0m \u001b[0mpath\u001b[0m \u001b[0;32min\u001b[0m \u001b[0mtqdm\u001b[0m\u001b[0;34m.\u001b[0m\u001b[0mtqdm\u001b[0m\u001b[0;34m(\u001b[0m\u001b[0mfiles\u001b[0m\u001b[0;34m)\u001b[0m\u001b[0;34m:\u001b[0m\u001b[0;34m\u001b[0m\u001b[0;34m\u001b[0m\u001b[0m\n\u001b[1;32m      2\u001b[0m     \u001b[0mfuze_trimesh\u001b[0m \u001b[0;34m=\u001b[0m \u001b[0mtrimesh\u001b[0m\u001b[0;34m.\u001b[0m\u001b[0mload\u001b[0m\u001b[0;34m(\u001b[0m\u001b[0mpath\u001b[0m\u001b[0;34m)\u001b[0m\u001b[0;34m\u001b[0m\u001b[0;34m\u001b[0m\u001b[0m\n\u001b[0;32m----> 3\u001b[0;31m     \u001b[0;32massert\u001b[0m \u001b[0mtype\u001b[0m\u001b[0;34m(\u001b[0m\u001b[0mfuze_trimesh\u001b[0m\u001b[0;34m)\u001b[0m \u001b[0;34m==\u001b[0m \u001b[0mtrimesh\u001b[0m\u001b[0;34m.\u001b[0m\u001b[0mscene\u001b[0m\u001b[0;34m.\u001b[0m\u001b[0mscene\u001b[0m\u001b[0;34m.\u001b[0m\u001b[0mScene\u001b[0m\u001b[0;34m\u001b[0m\u001b[0;34m\u001b[0m\u001b[0m\n\u001b[0m",
      "\u001b[0;31mAssertionError\u001b[0m: "
     ]
    }
   ],
   "source": [
    "for path in tqdm.tqdm(files):\n",
    "    fuze_trimesh = trimesh.load(path)\n",
    "    assert type(fuze_trimesh) == trimesh.scene.scene.Scene"
   ]
  },
  {
   "cell_type": "code",
   "execution_count": 282,
   "metadata": {},
   "outputs": [],
   "source": [
    "def get_vertices(path):\n",
    "    fuze_trimesh = trimesh.load(path)\n",
    "    points = []\n",
    "    if type(fuze_trimesh) == trimesh.scene.scene.Scene:\n",
    "        for key in fuze_trimesh.geometry:\n",
    "            points.append(fuze_trimesh.geometry[key].vertices)\n",
    "    else:\n",
    "        assert type(fuze_trimesh) == trimesh.base.Trimesh\n",
    "        points.append(fuze_trimesh.vertices)\n",
    "    return np.concatenate(points)\n",
    "\n",
    "def get_area(triangles):\n",
    "    v1 = triangles[:,1] - triangles[:,0]\n",
    "    v2 = triangles[:,2] - triangles[:,1]\n",
    "    area = np.linalg.norm(np.cross(v1,v2), axis=1)\n",
    "    return area\n",
    "\n",
    "def sample_points(path, nb=10000):\n",
    "    fuze_trimesh = trimesh.load(path)\n",
    "    triangles = []\n",
    "    if type(fuze_trimesh) == trimesh.scene.scene.Scene:\n",
    "        for key in fuze_trimesh.geometry:\n",
    "            triangles.append(fuze_trimesh.geometry[key].triangles)\n",
    "    else:\n",
    "        assert type(fuze_trimesh) == trimesh.base.Trimesh\n",
    "        triangles.append(fuze_trimesh.triangles)\n",
    "    triangles = np.concatenate(triangles)\n",
    "    area = get_area(triangles)\n",
    "    proba = area / np.sum(area)\n",
    "    samples = np.random.choice(len(proba), size=nb, p=proba)\n",
    "    coord = np.random.uniform(size=(nb, 3, 1))\n",
    "    coord = coord / np.sum(coord, axis=1, keepdims=True)\n",
    "    basis = np.take(triangles, samples, axis=0)\n",
    "    points = np.sum(coord*basis, axis=1)\n",
    "    return points\n",
    "\n",
    "def mult_vec(mat, vec):\n",
    "    v = np.ones((len(vec),4))\n",
    "    v[:,:3] = vec\n",
    "    return (v@mat)[:,:3]\n",
    "\n",
    "#pts = get_vertices(path)\n",
    "pts = sample_points(path, 1000)\n",
    "pts = mult_vec(mat, pts)"
   ]
  },
  {
   "cell_type": "code",
   "execution_count": 284,
   "metadata": {},
   "outputs": [
    {
     "data": {
      "image/png": "[encoded data removed]",
      "text/plain": [
       "<Figure size 432x288 with 1 Axes>"
      ]
     },
     "metadata": {
      "needs_background": "light"
     },
     "output_type": "display_data"
    }
   ],
   "source": [
    "colors = np.random.uniform(size=pts.shape)\n",
    "m = pyrender.Mesh.from_points(pts, colors=colors)\n",
    "scene = pyrender.Scene()\n",
    "scene.add_node(pyrender.Node(mesh=m))\n",
    "camera = pyrender.PerspectiveCamera(yfov=np.pi / 3.0)\n",
    "s = np.sqrt(2)/2\n",
    "mat_default = np.array([\n",
    "    [1,0,0,0],\n",
    "    [0,1,0,0],\n",
    "    [0,0,1,1],\n",
    "    [0,0,0,1],\n",
    "])\n",
    "scene.add(camera, pose=mat_default)\n",
    "\n",
    "light = pyrender.SpotLight(color=np.ones(3), intensity=4.0,\n",
    "                           innerConeAngle=np.pi/16.0)\n",
    "scene.add(light, pose=mat_default)\n",
    "light = pyrender.SpotLight(color=np.ones(3), intensity=6.0,\n",
    "                           innerConeAngle=0.2*np.pi)\n",
    "light_pose = np.array([\n",
    "    [0,1,0,0],\n",
    "    [0,0,1,1],\n",
    "    [1,0,0,0],\n",
    "    [0,0,0,1]\n",
    "], dtype=np.float32)\n",
    "scene.add(light, pose=light_pose)\n",
    "r = pyrender.OffscreenRenderer(128, 128)\n",
    "try :\n",
    "    color2, depth = r.render(scene)\n",
    "    plt.imshow(color2)\n",
    "except Exception as e:\n",
    "    print(type(e))\n",
    "    "
   ]
  },
  {
   "cell_type": "code",
   "execution_count": 226,
   "metadata": {},
   "outputs": [
    {
     "data": {
      "text/plain": [
       "<matplotlib.image.AxesImage at 0x7ff46fc42d30>"
      ]
     },
     "execution_count": 226,
     "metadata": {},
     "output_type": "execute_result"
    },
    {
     "data": {
      "image/png": "[encoded data removed]",
      "text/plain": [
       "<Figure size 432x288 with 1 Axes>"
      ]
     },
     "metadata": {
      "needs_background": "light"
     },
     "output_type": "display_data"
    }
   ],
   "source": [
    "plt.imshow(color2)"
   ]
  },
  {
   "cell_type": "code",
   "execution_count": null,
   "metadata": {},
   "outputs": [],
   "source": []
  },
  {
   "cell_type": "code",
   "execution_count": null,
   "metadata": {},
   "outputs": [],
   "source": []
  },
  {
   "cell_type": "code",
   "execution_count": null,
   "metadata": {},
   "outputs": [],
   "source": []
  },
  {
   "cell_type": "code",
   "execution_count": 98,
   "metadata": {},
   "outputs": [],
   "source": [
    "files = glob.glob(\"/Data/leo/download/ShapeNetCore.v2/02691156/*/models/model_normalized.obj\")"
   ]
  }
 ],
 "metadata": {
  "kernelspec": {
   "display_name": "Python 3",
   "language": "python",
   "name": "python3"
  },
  "language_info": {
   "codemirror_mode": {
    "name": "ipython",
    "version": 3
   },
   "file_extension": ".py",
   "mimetype": "text/x-python",
   "name": "python",
   "nbconvert_exporter": "python",
   "pygments_lexer": "ipython3",
   "version": "3.8.5"
  }
 },
 "nbformat": 4,
 "nbformat_minor": 4
}
